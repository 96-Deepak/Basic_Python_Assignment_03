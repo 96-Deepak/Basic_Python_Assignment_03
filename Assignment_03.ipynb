{
 "cells": [
  {
   "cell_type": "markdown",
   "metadata": {},
   "source": [
    "# 1. What are the benefits of including roles in the programmes?"
   ]
  },
  {
   "cell_type": "markdown",
   "metadata": {},
   "source": [
    "1) Extensive Support Libraries \n",
    "\n",
    "2) Open Source and community Development\n",
    "\n",
    "3) learning Ease and support available \n",
    "\n",
    "4) User firendly Data Structure \n",
    "\n",
    "5) productivity and speed"
   ]
  },
  {
   "cell_type": "markdown",
   "metadata": {},
   "source": [
    "# 2. When does the code in a function run: when it's specified or when it's called?"
   ]
  },
  {
   "cell_type": "markdown",
   "metadata": {},
   "source": [
    "A Function in python is a piece of code which runs when it is referenced. it is used to utilize the code in more than one\n",
    "place in a program. it is also called method or procedure. Python provide many inbuilt functiona like print(), input(),\n",
    "compile(), exec() etc. but is also gives freedom to create your own function.\n",
    "\n",
    "Function Call:- \n",
    "       When a function is called the program control jumps to that function definition and execute the statements inside \n",
    "        the function body. after executing the body of function, the program control jumps back to the part of the program\n",
    "        which called the function and resumes execution at that point. "
   ]
  },
  {
   "cell_type": "markdown",
   "metadata": {},
   "source": [
    "# 3. What statement causes a feature to be created?"
   ]
  },
  {
   "cell_type": "markdown",
   "metadata": {},
   "source": [
    "# 4. What is the distinction between a function and a call to a function"
   ]
  },
  {
   "cell_type": "markdown",
   "metadata": {},
   "source": [
    "Function:-  a function is a group of related statments that performs a specific task. function help break our program into\n",
    "    smaller and modular chunks. AS our program grows larger and larger functions make it more organized and manageable. \n",
    "\n",
    "call to function:-  A callable object is an object that can accept some arguments and possibly return. a function is the\n",
    "    simplest callable object in python, but there are others, such as classes or certain class instances. "
   ]
  },
  {
   "cell_type": "markdown",
   "metadata": {},
   "source": [
    "# 5. In a Python application, how many global scopes are there? How many local scopes are there?"
   ]
  },
  {
   "cell_type": "markdown",
   "metadata": {},
   "source": [
    "there are four types of scope in python application:- \n",
    "    1) Local Scope:-  The variables which are defined in function are a local scope of the variable. \n",
    "    \n",
    "    2) Global Scope:- The variable which can be read from anywhere in the program is known as global scope.\n",
    "        \n",
    "    3) NonLocal or Enclosing Scope:-  nonlocal variable is the variable that is defined in the nested function. it means \n",
    "            the variable can be neither in the local scope nor in the global scope. \n",
    "    \n",
    "    4) Built in scope :- if a Variable is not defined in local, enclosed or global scope. then python looks for it in the \n",
    "            built in scope "
   ]
  },
  {
   "cell_type": "markdown",
   "metadata": {},
   "source": [
    "# 6. When a function call returns, what happens to variables in the local scope?"
   ]
  },
  {
   "cell_type": "markdown",
   "metadata": {},
   "source": [
    " A local variable retains its value until the next time the function is called. \n",
    " A local variable becomes undefined after the function call complete.  \n",
    " The local variable can be used outside the function any time after the function call complete."
   ]
  },
  {
   "cell_type": "markdown",
   "metadata": {},
   "source": [
    "# 7. What is the concept of a return value? Is it possible to have a return value in an expression?"
   ]
  },
  {
   "cell_type": "markdown",
   "metadata": {},
   "source": [
    "A return statement is used to end the execution of the function call and \"return\" the result to the caller. The statement after \n",
    "the return statement are not executed. if the return statement is without any expression, then the special value None is retured. we can have expression also in the return statement. "
   ]
  },
  {
   "cell_type": "markdown",
   "metadata": {},
   "source": [
    "# 8. What is the return value of a call to a function that does not have a return statement?\n",
    "\n"
   ]
  },
  {
   "cell_type": "markdown",
   "metadata": {},
   "source": [
    "a function in python is defined with def keyword. Function do not have declared return types. A function without an explicit \n",
    "return statement returns None. In the case of no arguments and no return value. "
   ]
  },
  {
   "cell_type": "markdown",
   "metadata": {},
   "source": [
    "\n",
    "# 9. How do you make a function variable refer to the global variable?"
   ]
  },
  {
   "cell_type": "markdown",
   "metadata": {},
   "source": [
    "Normally, when you create a variable inside a function, that variable is local, and can only used inside that function.\n",
    "    To create global variable inside a function you can use the global keyword. \n"
   ]
  },
  {
   "cell_type": "raw",
   "metadata": {},
   "source": [
    "def myfunc():\n",
    "  global x\n",
    "  x = \"Very powerful Lang.\"\n",
    "\n",
    "myfunc()\n",
    "\n",
    "print(\"Python is \" + x)"
   ]
  },
  {
   "cell_type": "markdown",
   "metadata": {},
   "source": [
    "# 10. What data form does None belong to?"
   ]
  },
  {
   "cell_type": "markdown",
   "metadata": {},
   "source": [
    "The None keyword is used to define a null value or no value at all. None is not the same as 0. False or an empty string. None is a data type of its own (NoneType) and only None can be None."
   ]
  },
  {
   "cell_type": "markdown",
   "metadata": {},
   "source": [
    "# 11. What does the sentence import are all your pets name deric do?"
   ]
  },
  {
   "cell_type": "markdown",
   "metadata": {},
   "source": [
    "Note: this question i didn't undestand "
   ]
  },
  {
   "cell_type": "markdown",
   "metadata": {},
   "source": [
    "# 12. If you had a bacon() feature in a spam module, what would you call it after importing spam?"
   ]
  },
  {
   "cell_type": "markdown",
   "metadata": {},
   "source": [
    "this function can be called with spam.bacon()."
   ]
  },
  {
   "cell_type": "markdown",
   "metadata": {},
   "source": [
    "# 13. What can you do to save a programme from crashing if it encounters an error?"
   ]
  },
  {
   "cell_type": "markdown",
   "metadata": {},
   "source": [
    "Try running the program and it should throw an error message instead of crashing the program. The reason for the exception is also returned as an exception is also returned as an exception message."
   ]
  },
  {
   "cell_type": "markdown",
   "metadata": {},
   "source": [
    "# 14. What is the purpose of the try clause? What is the purpose of the except clause?"
   ]
  },
  {
   "cell_type": "markdown",
   "metadata": {},
   "source": [
    "The try block is used to check some code for error i.e the code inside the try block will execute when there is no errorin the program. whereas the code inside the except block will execute whenever the program encounter some error in the preceding try block. "
   ]
  },
  {
   "cell_type": "code",
   "execution_count": null,
   "metadata": {},
   "outputs": [],
   "source": []
  }
 ],
 "metadata": {
  "kernelspec": {
   "display_name": "Python 3",
   "language": "python",
   "name": "python3"
  },
  "language_info": {
   "codemirror_mode": {
    "name": "ipython",
    "version": 3
   },
   "file_extension": ".py",
   "mimetype": "text/x-python",
   "name": "python",
   "nbconvert_exporter": "python",
   "pygments_lexer": "ipython3",
   "version": "3.7.4"
  }
 },
 "nbformat": 4,
 "nbformat_minor": 2
}
